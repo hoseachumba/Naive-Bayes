{
 "cells": [
  {
   "cell_type": "markdown",
   "id": "98363700",
   "metadata": {},
   "source": [
    "## Data Types in Python"
   ]
  },
  {
   "cell_type": "code",
   "execution_count": null,
   "id": "5f3463e7",
   "metadata": {},
   "outputs": [],
   "source": [
    "- Python - it is a OOP lge like PhP and Java\n",
    "- it is procedure oriented\n",
    "- Easy to learn as well as high level lge\n",
    "- Can run in several platforms: Mac, linux and windows\n",
    "    - In python, you can write fewer lines of codes compared to other OOP like java"
   ]
  },
  {
   "cell_type": "markdown",
   "id": "3e65ea69",
   "metadata": {},
   "source": [
    "Numeric types - int, float, complex numbers\n",
    "Text type data - strings\n",
    "\n",
    "Sequence types: lists, tuples and range\n",
    "    \n",
    "Mapping data types: dict\n",
    "    \n",
    "Set data type: set type\n",
    "    \n",
    "Boolean Type: bool\n",
    "\n",
    "Binary Data Types: bytes, bytearray, and memory view\n",
    "    \n"
   ]
  },
  {
   "cell_type": "code",
   "execution_count": 2,
   "id": "86e86ab8",
   "metadata": {},
   "outputs": [
    {
     "name": "stdout",
     "output_type": "stream",
     "text": [
      "7\n"
     ]
    }
   ],
   "source": [
    "# numeric data types\n",
    "num = 7\n",
    "print (num)"
   ]
  },
  {
   "cell_type": "code",
   "execution_count": 3,
   "id": "1932ed85",
   "metadata": {},
   "outputs": [
    {
     "data": {
      "text/plain": [
       "int"
      ]
     },
     "execution_count": 3,
     "metadata": {},
     "output_type": "execute_result"
    }
   ],
   "source": [
    "type(num) # this will show you the type of the data we have just declared"
   ]
  },
  {
   "cell_type": "code",
   "execution_count": 4,
   "id": "d67eecd8",
   "metadata": {},
   "outputs": [
    {
     "name": "stdout",
     "output_type": "stream",
     "text": [
      "7 is of type <class 'int'>\n"
     ]
    }
   ],
   "source": [
    "print (num, \"is of type\", type(num))"
   ]
  },
  {
   "cell_type": "code",
   "execution_count": 5,
   "id": "791a856a",
   "metadata": {},
   "outputs": [
    {
     "data": {
      "text/plain": [
       "float"
      ]
     },
     "execution_count": 5,
     "metadata": {},
     "output_type": "execute_result"
    }
   ],
   "source": [
    "num1 = 10.89\n",
    "type(num1) # this will tell you that num1 is holding a variable of type float"
   ]
  },
  {
   "cell_type": "code",
   "execution_count": 6,
   "id": "088cea1a",
   "metadata": {
    "scrolled": true
   },
   "outputs": [
    {
     "data": {
      "text/plain": [
       "complex"
      ]
     },
     "execution_count": 6,
     "metadata": {},
     "output_type": "execute_result"
    }
   ],
   "source": [
    "#complex data type\n",
    "num2 = 8+6j\n",
    "type(num2)"
   ]
  },
  {
   "cell_type": "markdown",
   "id": "39f69863",
   "metadata": {},
   "source": [
    "A complex number has two parts, real part and imaginary part. \n",
    "\n",
    "- Complex numbers are represented as A+Bi or A+Bj , where A is real part and B is imaginary part. \n",
    "\n",
    "- Python supports complex data type as built-in feature which means we can directly perform different operations \n",
    "\n",
    "on complex number in python.\n"
   ]
  },
  {
   "cell_type": "code",
   "execution_count": 8,
   "id": "cb5fa865",
   "metadata": {},
   "outputs": [
    {
     "name": "stdout",
     "output_type": "stream",
     "text": [
      "(8+6j)\n"
     ]
    }
   ],
   "source": [
    "print(num2)"
   ]
  },
  {
   "cell_type": "code",
   "execution_count": 10,
   "id": "d0a35516",
   "metadata": {},
   "outputs": [
    {
     "data": {
      "text/plain": [
       "8.0"
      ]
     },
     "execution_count": 10,
     "metadata": {},
     "output_type": "execute_result"
    }
   ],
   "source": [
    "num2.real#this one extracts the part of the complex number that is real"
   ]
  },
  {
   "cell_type": "code",
   "execution_count": 11,
   "id": "33e667ee",
   "metadata": {},
   "outputs": [
    {
     "data": {
      "text/plain": [
       "6.0"
      ]
     },
     "execution_count": 11,
     "metadata": {},
     "output_type": "execute_result"
    }
   ],
   "source": [
    "num2.imag# This gives us part of the imaginary number in the complext number above"
   ]
  },
  {
   "cell_type": "markdown",
   "id": "354f1365",
   "metadata": {},
   "source": [
    "## Data type convertion in Python"
   ]
  },
  {
   "cell_type": "code",
   "execution_count": 12,
   "id": "d7ec3a23",
   "metadata": {},
   "outputs": [
    {
     "name": "stdout",
     "output_type": "stream",
     "text": [
      "7\n",
      "<class 'float'>\n",
      "<class 'int'>\n"
     ]
    }
   ],
   "source": [
    "num3 = 7.8\n",
    "b = int(num3)\n",
    "print (b) # returns 7 which is of type integer - it has trancated the decimal part of the float data type\n",
    "print (type(num3)) # this is float as it is 7.8\n",
    "print (type(b)) # after converstion it becomes an int data type"
   ]
  },
  {
   "cell_type": "code",
   "execution_count": 13,
   "id": "6ac7235f",
   "metadata": {},
   "outputs": [
    {
     "name": "stdout",
     "output_type": "stream",
     "text": [
      "<class 'float'>\n",
      "-90\n"
     ]
    }
   ],
   "source": [
    "num4 = -90.6\n",
    "print(type(num4))\n",
    "print(int(num4)) # It trancates when you convert"
   ]
  },
  {
   "cell_type": "code",
   "execution_count": 14,
   "id": "db425fd4",
   "metadata": {},
   "outputs": [
    {
     "name": "stdout",
     "output_type": "stream",
     "text": [
      "<class 'float'>\n"
     ]
    }
   ],
   "source": [
    "c = float (num3)\n",
    "print (type(num3))"
   ]
  },
  {
   "cell_type": "code",
   "execution_count": 15,
   "id": "7f275bc1",
   "metadata": {},
   "outputs": [
    {
     "name": "stdout",
     "output_type": "stream",
     "text": [
      "7.8\n"
     ]
    }
   ],
   "source": [
    "print (num3)"
   ]
  },
  {
   "cell_type": "markdown",
   "id": "5549bb5c",
   "metadata": {},
   "source": [
    "## 2. Boolean Data types"
   ]
  },
  {
   "cell_type": "code",
   "execution_count": 16,
   "id": "7637768d",
   "metadata": {},
   "outputs": [
    {
     "data": {
      "text/plain": [
       "bool"
      ]
     },
     "execution_count": 16,
     "metadata": {},
     "output_type": "execute_result"
    }
   ],
   "source": [
    "d = True\n",
    "type(d) # This will return that boolean data type"
   ]
  },
  {
   "cell_type": "code",
   "execution_count": 17,
   "id": "b771d5fd",
   "metadata": {},
   "outputs": [
    {
     "data": {
      "text/plain": [
       "False"
      ]
     },
     "execution_count": 17,
     "metadata": {},
     "output_type": "execute_result"
    }
   ],
   "source": [
    "e = -56.7\n",
    "f = 25\n",
    "e>f # This will tell you that e is not greater than f"
   ]
  },
  {
   "cell_type": "code",
   "execution_count": 18,
   "id": "7d263f69",
   "metadata": {},
   "outputs": [
    {
     "name": "stdout",
     "output_type": "stream",
     "text": [
      "<class 'bool'>\n",
      "True\n"
     ]
    }
   ],
   "source": [
    "g = e<f\n",
    "print (type(g)) # This will print g as a boolean data type\n",
    "print (g)"
   ]
  },
  {
   "cell_type": "markdown",
   "id": "01786575",
   "metadata": {},
   "source": [
    "## 3. String data type"
   ]
  },
  {
   "cell_type": "code",
   "execution_count": 20,
   "id": "019d2097",
   "metadata": {},
   "outputs": [
    {
     "name": "stdout",
     "output_type": "stream",
     "text": [
      "<class 'str'>\n",
      "t\n"
     ]
    }
   ],
   "source": [
    "h = (\"python programing\")\n",
    "i = (\"easy to learn\")\n",
    "print (type(h)) # this will return that it is of a string data type \n",
    "print (h[2])# accessing a value stored in the data type"
   ]
  },
  {
   "cell_type": "code",
   "execution_count": 23,
   "id": "d803ff4a",
   "metadata": {},
   "outputs": [
    {
     "name": "stdout",
     "output_type": "stream",
     "text": [
      "l\n"
     ]
    }
   ],
   "source": [
    "print (i[-5])# helps to check the value at a given index. negative index will start counting from backwards"
   ]
  },
  {
   "cell_type": "code",
   "execution_count": 24,
   "id": "2b1cc170",
   "metadata": {},
   "outputs": [
    {
     "data": {
      "text/plain": [
       "'python '"
      ]
     },
     "execution_count": 24,
     "metadata": {},
     "output_type": "execute_result"
    }
   ],
   "source": [
    "# slicing of strings\n",
    "h[0:7]# remeber this will exclude the 7th index"
   ]
  },
  {
   "cell_type": "code",
   "execution_count": 25,
   "id": "6b4f1502",
   "metadata": {},
   "outputs": [
    {
     "name": "stdout",
     "output_type": "stream",
     "text": [
      "13\n"
     ]
    }
   ],
   "source": [
    "print (h.find(\"m\"))# this will return 'm' as being in index 13 inside a string variable called h"
   ]
  },
  {
   "cell_type": "markdown",
   "id": "8284ca9c",
   "metadata": {},
   "source": [
    "- Kindly explore other functionalities that can be implemented in the above data types that we have just introduced"
   ]
  },
  {
   "cell_type": "markdown",
   "id": "0ec6bd77",
   "metadata": {},
   "source": [
    "### Lets explore more on sequence data types"
   ]
  },
  {
   "cell_type": "markdown",
   "id": "0cb69d59",
   "metadata": {},
   "source": [
    "- Sequences allow you to store multiple values in an organized and efficient fashion. \n",
    "\n",
    "- There are several sequence types: strings, Unicode strings, lists, tuples, bytearrays, and range objects. \n",
    "    \n",
    "- Dictionaries and sets are containers for non-sequential data. "
   ]
  },
  {
   "cell_type": "markdown",
   "id": "6a58e1d7",
   "metadata": {},
   "source": [
    "1. List Data Type"
   ]
  },
  {
   "cell_type": "code",
   "execution_count": 28,
   "id": "a60aba95",
   "metadata": {},
   "outputs": [
    {
     "name": "stdout",
     "output_type": "stream",
     "text": [
      "<class 'list'>\n",
      "['apple', 'orange', 23, 'mellon']\n"
     ]
    }
   ],
   "source": [
    "# list data type\n",
    "# Declare a list\n",
    "k = [\"apple\", \"orange\", 23, \"mellon\"]\n",
    "print (type(k))\n",
    "print (k)\n",
    "\n",
    "#Important points to note:\n",
    "# - List accepts more than one data type\n",
    "# - It uses square brackets\n",
    "# - Anyhing in quotes even if it is an integer is seen as a string"
   ]
  },
  {
   "cell_type": "code",
   "execution_count": 34,
   "id": "a5a4c861",
   "metadata": {},
   "outputs": [
    {
     "name": "stdout",
     "output_type": "stream",
     "text": [
      "['This', 'is', 'orange']\n",
      "<class 'list'>\n"
     ]
    }
   ],
   "source": [
    "l = (\"This,is,orange\")\n",
    "l1 = l.split(\",\")\n",
    "print(l1)\n",
    "print (type(l1))# showing that this variable is of list data type"
   ]
  },
  {
   "cell_type": "code",
   "execution_count": 35,
   "id": "7064a414",
   "metadata": {},
   "outputs": [
    {
     "name": "stdout",
     "output_type": "stream",
     "text": [
      "<class 'str'>\n"
     ]
    }
   ],
   "source": [
    "print (type(l))# this shows that l was a string but after splitting, it becomes a list"
   ]
  },
  {
   "cell_type": "code",
   "execution_count": 36,
   "id": "f256c049",
   "metadata": {},
   "outputs": [
    {
     "name": "stdout",
     "output_type": "stream",
     "text": [
      "['a', '1', 'india']\n"
     ]
    }
   ],
   "source": [
    "l2 = [\"a\", \"1\", \"india\"]\n",
    "print (l2)# this will give us what is in l2  (list declared as l2)"
   ]
  },
  {
   "cell_type": "code",
   "execution_count": 37,
   "id": "6533c02e",
   "metadata": {},
   "outputs": [
    {
     "data": {
      "text/plain": [
       "list"
      ]
     },
     "execution_count": 37,
     "metadata": {},
     "output_type": "execute_result"
    }
   ],
   "source": [
    "type(l2)# we are checking the data type of l2"
   ]
  },
  {
   "cell_type": "markdown",
   "id": "393138e1",
   "metadata": {},
   "source": [
    "- Performing certain operations on lists\n"
   ]
  },
  {
   "cell_type": "code",
   "execution_count": 39,
   "id": "89fd52b8",
   "metadata": {},
   "outputs": [
    {
     "name": "stdout",
     "output_type": "stream",
     "text": [
      "['a', '1', 'india', 'b', '2', 'b', '2']\n"
     ]
    }
   ],
   "source": [
    "# adding a few elements on the lists. Is it concartenation?\n",
    "l3 = [\"b\", \"2\"]\n",
    "l2 += l3# this adds the componnets of l3 to l2\n",
    "print (l2)"
   ]
  },
  {
   "cell_type": "markdown",
   "id": "728b2673",
   "metadata": {},
   "source": [
    "2. Tuple data type"
   ]
  },
  {
   "cell_type": "code",
   "execution_count": 40,
   "id": "df1d2c25",
   "metadata": {},
   "outputs": [
    {
     "name": "stdout",
     "output_type": "stream",
     "text": [
      "<class 'tuple'>\n",
      "('a', 'b', 'c', 'd', 'e', 'f')\n",
      "<class 'tuple'>\n"
     ]
    }
   ],
   "source": [
    "tup1 = ('a','b','c','d')\n",
    "print (type(tup1))\n",
    "tup2 = ('e', 'f')\n",
    "tup3 = tup1+tup2# results of a merged tuple showing the two tuples already declared (tup1 and tup2 forming tup3)\n",
    "print (tup3)\n",
    "print (type(tup3))"
   ]
  },
  {
   "cell_type": "code",
   "execution_count": 41,
   "id": "dfa21082",
   "metadata": {},
   "outputs": [],
   "source": [
    "# Basic operations in tuples\n",
    "# Multiplying tuples"
   ]
  },
  {
   "cell_type": "code",
   "execution_count": 42,
   "id": "4fe26391",
   "metadata": {},
   "outputs": [
    {
     "data": {
      "text/plain": [
       "('a', 'b', 'c', 'd', 'e', 'f', 'a', 'b', 'c', 'd', 'e', 'f')"
      ]
     },
     "execution_count": 42,
     "metadata": {},
     "output_type": "execute_result"
    }
   ],
   "source": [
    "tup3*2"
   ]
  },
  {
   "cell_type": "markdown",
   "id": "c29d8d25",
   "metadata": {},
   "source": [
    "3. Dictionary Data Type"
   ]
  },
  {
   "cell_type": "code",
   "execution_count": 43,
   "id": "de972198",
   "metadata": {},
   "outputs": [
    {
     "name": "stdout",
     "output_type": "stream",
     "text": [
      "{1: 'Lions', 2: 'Tiger', 3: 'Dog'}\n"
     ]
    }
   ],
   "source": [
    "# dictinaries are created using calibraces - it poseses key and what to pass \n",
    "dict1 = {1:'Lions', 2:'Tiger', 3:'Dog'}\n",
    "print (dict1)"
   ]
  },
  {
   "cell_type": "markdown",
   "id": "c491d4de",
   "metadata": {},
   "source": [
    "- Dictionaries are used to store data values in key:value pairs.\n",
    "\n",
    "- A dictionary is a collection which is ordered*, changeable and does not allow duplicates.\n",
    "\n",
    "- As of Python version 3.7, dictionaries are ordered. In Python 3.6 and earlier, dictionaries are unordered.\n",
    "\n",
    "- When we say that dictionaries are ordered, it means that the items have a defined order, and that order will not change.\n",
    "\n",
    "- Unordered means that the items does not have a defined order, you cannot refer to an item by using an index."
   ]
  },
  {
   "cell_type": "code",
   "execution_count": 46,
   "id": "28c46119",
   "metadata": {},
   "outputs": [
    {
     "name": "stdout",
     "output_type": "stream",
     "text": [
      "{'Brand': 'Fords', 'Model': 'Mustang', 'Year': '1964'}\n"
     ]
    }
   ],
   "source": [
    "#lets create another dictionary\n",
    "\n",
    "thisdict = {\n",
    "    \"Brand\": \"Fords\",\n",
    "    \"Model\": \"Mustang\",\n",
    "    \"Year\": \"1964\"\n",
    "}\n",
    "print (thisdict)"
   ]
  },
  {
   "cell_type": "code",
   "execution_count": 48,
   "id": "b15604d7",
   "metadata": {},
   "outputs": [
    {
     "name": "stdout",
     "output_type": "stream",
     "text": [
      "{'Brand': 'Fords', 'Model': 'Mustang', 'Year': '1990'}\n"
     ]
    }
   ],
   "source": [
    "# Duplicates Not Allowed in Dictionaries\n",
    "thisdict1 = {\n",
    "    \"Brand\": \"Fords\",\n",
    "    \"Model\": \"Mustang\",\n",
    "    \"Year\": \"1964\",\n",
    "    \"Year\": \"1990\"\n",
    "}\n",
    "print (thisdict1)"
   ]
  },
  {
   "cell_type": "code",
   "execution_count": 49,
   "id": "ebecaf76",
   "metadata": {},
   "outputs": [
    {
     "name": "stdout",
     "output_type": "stream",
     "text": [
      "3\n"
     ]
    }
   ],
   "source": [
    "#Dictionary Length\n",
    "#To determine how many items a dictionary has, use the len() function:\n",
    "print (len(thisdict1))# this reveals that thisdict is of lenght 3 components"
   ]
  },
  {
   "cell_type": "code",
   "execution_count": 50,
   "id": "d179a8c6",
   "metadata": {},
   "outputs": [
    {
     "name": "stdout",
     "output_type": "stream",
     "text": [
      "<class 'dict'>\n",
      "{'brand': 'Ford', 'electric': False, 'year': 1964, 'colors': ['red', 'white', 'blue']}\n"
     ]
    }
   ],
   "source": [
    "#The values in dictionary items can be of any data type:\n",
    "#Example\n",
    "thisdict2 = {\n",
    "  \"brand\": \"Ford\",\n",
    "  \"electric\": False,\n",
    "  \"year\": 1964,\n",
    "  \"colors\": [\"red\", \"white\", \"blue\"]\n",
    "}\n",
    "print (type(thisdict2))\n",
    "print (thisdict2)"
   ]
  },
  {
   "cell_type": "markdown",
   "id": "9d153b89",
   "metadata": {},
   "source": [
    "4. Set data type - Sets are used to store multiple items in a single variable"
   ]
  },
  {
   "cell_type": "markdown",
   "id": "75c4fbd8",
   "metadata": {},
   "source": [
    "- Set is an unordered collection of data type that is iterable, mutable and has no duplicate elements.\n",
    "\n",
    "- Sets are used to store multiple items in a single variable. \n",
    "\n",
    "- Set is one of 4 built-in data types in Python used to store collections of data\n",
    "\n",
    "- The other 3 are List, Tuple, and Dictionary, all with different qualities and usage.\n",
    "\n",
    "- A set is a collection which is unordered, unchangeable, and unindexed.\n",
    "\n",
    "- Sets are written with curly brackets."
   ]
  },
  {
   "cell_type": "code",
   "execution_count": 51,
   "id": "7341c322",
   "metadata": {},
   "outputs": [
    {
     "name": "stdout",
     "output_type": "stream",
     "text": [
      "{'banana', 'cherry', 'apple'}\n"
     ]
    }
   ],
   "source": [
    "thisset = {\"apple\", \"banana\", \"cherry\"}\n",
    "print(thisset)"
   ]
  },
  {
   "cell_type": "code",
   "execution_count": 52,
   "id": "f24f4499",
   "metadata": {},
   "outputs": [
    {
     "name": "stdout",
     "output_type": "stream",
     "text": [
      "{'banana', 'cherry', 'apple'}\n"
     ]
    }
   ],
   "source": [
    "print(thisset) # notice how this has changed the order from 1 being apple to being banana"
   ]
  },
  {
   "cell_type": "markdown",
   "id": "e9127702",
   "metadata": {},
   "source": [
    "- X-tics of set items are: unordered, unchangeable, and do not allow duplicate values.\n",
    "\n",
    "a) *Unordered*: Unordered means that the items in a set do not have a defined order.\n",
    "\n",
    "- Set items can appear in a different order every time you use them, and cannot be referred to by index or key.\n",
    "\n",
    "b) *Unchangeable*: Sets are unchangeable, meaning that we cannot change the items after the set has been created.\n",
    "\n",
    "- Once a set is created, you cannot change its items, but you can add new items.\n",
    "\n",
    "c) *Duplicates Not Allowed*: Sets cannot have two items with the same value.\n"
   ]
  },
  {
   "cell_type": "code",
   "execution_count": 53,
   "id": "5fc1794e",
   "metadata": {},
   "outputs": [
    {
     "name": "stdout",
     "output_type": "stream",
     "text": [
      "{'banana', 'cherry', 'apple'}\n"
     ]
    }
   ],
   "source": [
    "# Duplicates will be ignored\n",
    "thisset4 = {\"apple\", \"banana\", \"cherry\", \"apple\"}\n",
    "\n",
    "print(thisset4) # you will notice that apple which appeared twice will be printed only once. I drops duplicated numbers"
   ]
  },
  {
   "cell_type": "code",
   "execution_count": 54,
   "id": "47e5123e",
   "metadata": {},
   "outputs": [
    {
     "name": "stdout",
     "output_type": "stream",
     "text": [
      "3\n"
     ]
    }
   ],
   "source": [
    "# To get the Length of a Set\n",
    "thisset5 = {\"apple\", \"banana\", \"cherry\"}\n",
    "\n",
    "print(len(thisset5))"
   ]
  },
  {
   "cell_type": "markdown",
   "id": "c5557660",
   "metadata": {},
   "source": [
    "- **Key** Set Items can be of any data type:"
   ]
  },
  {
   "cell_type": "code",
   "execution_count": 55,
   "id": "1d10effc",
   "metadata": {},
   "outputs": [
    {
     "name": "stdout",
     "output_type": "stream",
     "text": [
      "{'banana', 'cherry', 'apple'}\n",
      "{1, 3, 5, 7, 9}\n",
      "{False, True}\n"
     ]
    }
   ],
   "source": [
    "# Example - String, int and boolean data types:\n",
    "set1 = {\"apple\", \"banana\", \"cherry\"}\n",
    "set2 = {1, 5, 7, 9, 3}\n",
    "set3 = {True, False, False}\n",
    "print (set1)\n",
    "print (set2)\n",
    "print (set3)"
   ]
  },
  {
   "cell_type": "code",
   "execution_count": 56,
   "id": "63bd726e",
   "metadata": {},
   "outputs": [
    {
     "name": "stdout",
     "output_type": "stream",
     "text": [
      "<class 'set'>\n",
      "{True, 34, 'male', 40, 'abc'}\n"
     ]
    }
   ],
   "source": [
    "# A single set can contain different data types\n",
    "set6 = {\"abc\", 34, True, 40, \"male\"}\n",
    "print (type(set6))\n",
    "print (set6)"
   ]
  },
  {
   "cell_type": "code",
   "execution_count": 58,
   "id": "33fdcf7a",
   "metadata": {},
   "outputs": [
    {
     "name": "stdout",
     "output_type": "stream",
     "text": [
      "{'banana', 'cherry', 'apple'}\n",
      "<class 'set'>\n"
     ]
    }
   ],
   "source": [
    "#It is also possible to use the set() constructor to make a set.\n",
    "# Example\n",
    "\n",
    "thisset7 = set((\"apple\", \"banana\", \"cherry\")) # note the double round-brackets\n",
    "print(thisset7)\n",
    "print (type(thisset7))"
   ]
  },
  {
   "cell_type": "code",
   "execution_count": 61,
   "id": "2d67181f",
   "metadata": {},
   "outputs": [
    {
     "name": "stdout",
     "output_type": "stream",
     "text": [
      "{1, 2, 3, 4, 5, 'a', 'b'}\n"
     ]
    }
   ],
   "source": [
    "set8 = {1,2,3,4,5}\n",
    "set9 = {'a','b', 3, 4}\n",
    "print (set8 | set9)# to print set 8 or 9 - This will combine the two sets and drop "
   ]
  },
  {
   "cell_type": "code",
   "execution_count": 62,
   "id": "2c7b5b7d",
   "metadata": {},
   "outputs": [
    {
     "name": "stdout",
     "output_type": "stream",
     "text": [
      "{3, 4}\n"
     ]
    }
   ],
   "source": [
    "print (set8 & set9) # This will print wjhatever is present in both set8 and set9"
   ]
  },
  {
   "cell_type": "code",
   "execution_count": 63,
   "id": "01ad0e97",
   "metadata": {},
   "outputs": [
    {
     "data": {
      "text/plain": [
       "{1, 2, 5}"
      ]
     },
     "execution_count": 63,
     "metadata": {},
     "output_type": "execute_result"
    }
   ],
   "source": [
    "set8-set9# gives us values present in set 8 and not set9"
   ]
  },
  {
   "cell_type": "code",
   "execution_count": 64,
   "id": "212f6fa7",
   "metadata": {},
   "outputs": [
    {
     "data": {
      "text/plain": [
       "{'a', 'b'}"
      ]
     },
     "execution_count": 64,
     "metadata": {},
     "output_type": "execute_result"
    }
   ],
   "source": [
    "set9-set8 # gives us values that are present in set9 and not set8"
   ]
  },
  {
   "cell_type": "markdown",
   "id": "3c320dd1",
   "metadata": {},
   "source": [
    "**4. Range data type**"
   ]
  },
  {
   "cell_type": "markdown",
   "id": "79d6f6e1",
   "metadata": {},
   "source": [
    "- Range in python is another in-built python datatype which is mainly used with loops in python. \n",
    "\n",
    "- It returns a sequence of numbers specified in the function arguments.\n"
   ]
  },
  {
   "cell_type": "code",
   "execution_count": 65,
   "id": "35750d6e",
   "metadata": {},
   "outputs": [
    {
     "name": "stdout",
     "output_type": "stream",
     "text": [
      "0\n",
      "1\n",
      "2\n",
      "3\n",
      "4\n",
      "5\n"
     ]
    }
   ],
   "source": [
    "# Create a sequence of numbers from 0 to 5, and print each item in the sequence:\n",
    "x = range(6)# prints the range of the six values within the range\n",
    "for n in x:\n",
    "  print(n)"
   ]
  },
  {
   "cell_type": "markdown",
   "id": "85eec478",
   "metadata": {},
   "source": [
    "- The range() function returns a sequence of numbers, starting from 0 by default, and increments by 1 (by default),\n",
    "\n",
    "- and stops before a specified number.\n",
    "\n",
    "- Syntax\n",
    "\n",
    "- range(start, stop, step)\n",
    "\n",
    "- Parameter and Description: \n",
    "- **start** : Optional. An integer number specifying at which position to start. Default is 0\n",
    "- **stop** : Required. An integer number specifying at which position to stop (not included).\n",
    "- **step** : Optional. An integer number specifying the incrementation. Default is 1"
   ]
  },
  {
   "cell_type": "code",
   "execution_count": 66,
   "id": "2864e47c",
   "metadata": {},
   "outputs": [
    {
     "name": "stdout",
     "output_type": "stream",
     "text": [
      "3\n",
      "4\n",
      "5\n"
     ]
    }
   ],
   "source": [
    "# Create a sequence of numbers from 3 to 5, and print each item in the sequence:\n",
    "x = range(3, 6)\n",
    "for n in x:\n",
    "  print(n)"
   ]
  },
  {
   "cell_type": "code",
   "execution_count": 67,
   "id": "7d90e8e4",
   "metadata": {},
   "outputs": [
    {
     "name": "stdout",
     "output_type": "stream",
     "text": [
      "3\n",
      "5\n",
      "7\n",
      "9\n",
      "11\n",
      "13\n",
      "15\n",
      "17\n",
      "19\n"
     ]
    }
   ],
   "source": [
    "# incrementing\n",
    "#Example - Create a sequence of numbers from 3 to 19, but increment by 2 instead of 1:\n",
    "x = range(3, 20, 2)\n",
    "for n in x:\n",
    "  print(n)"
   ]
  },
  {
   "cell_type": "code",
   "execution_count": 68,
   "id": "7c073c4f",
   "metadata": {},
   "outputs": [
    {
     "name": "stdout",
     "output_type": "stream",
     "text": [
      "<class 'range'>\n"
     ]
    }
   ],
   "source": [
    "print (type(x))# this will return range"
   ]
  },
  {
   "cell_type": "markdown",
   "id": "8147a374",
   "metadata": {},
   "source": [
    "5. Binary data types\n",
    "\n",
    "- They are not widely used in python \n"
   ]
  },
  {
   "cell_type": "code",
   "execution_count": 69,
   "id": "5fa247f0",
   "metadata": {},
   "outputs": [
    {
     "name": "stdout",
     "output_type": "stream",
     "text": [
      "<class 'bytes'>\n",
      "b'Hello world'\n"
     ]
    }
   ],
   "source": [
    "y = b\"Hello world\"\n",
    "print (type(y))# it will output bytes\n",
    "print (y)"
   ]
  },
  {
   "cell_type": "code",
   "execution_count": 72,
   "id": "ee8b3142",
   "metadata": {},
   "outputs": [
    {
     "name": "stdout",
     "output_type": "stream",
     "text": [
      "108\n",
      "108\n",
      "119\n"
     ]
    }
   ],
   "source": [
    "# To access a particular index in a binary\n",
    "print (y[3])\n",
    "print (y[2])\n",
    "print (y[6])# This will return the ASCII values of the the letters in the said byte"
   ]
  },
  {
   "cell_type": "code",
   "execution_count": 73,
   "id": "a735c06f",
   "metadata": {},
   "outputs": [
    {
     "name": "stdout",
     "output_type": "stream",
     "text": [
      "<class 'str'>\n",
      "['M', 'e', 's', 's', 'i', ' ', 'i', 's', ' ', 'f', 'r', 'o', 'm', ' ', 'A', 'r', 'g']\n",
      "<class 'list'>\n"
     ]
    }
   ],
   "source": [
    "# Conversation - converting a string to a list\n",
    "s = (\"Messi is from Arg\")\n",
    "print (type(s))\n",
    "l = list(s)\n",
    "print (l)\n",
    "print (type(l))"
   ]
  },
  {
   "cell_type": "code",
   "execution_count": null,
   "id": "392292d2",
   "metadata": {},
   "outputs": [],
   "source": []
  }
 ],
 "metadata": {
  "kernelspec": {
   "display_name": "Python 3",
   "language": "python",
   "name": "python3"
  },
  "language_info": {
   "codemirror_mode": {
    "name": "ipython",
    "version": 3
   },
   "file_extension": ".py",
   "mimetype": "text/x-python",
   "name": "python",
   "nbconvert_exporter": "python",
   "pygments_lexer": "ipython3",
   "version": "3.8.8"
  }
 },
 "nbformat": 4,
 "nbformat_minor": 5
}
